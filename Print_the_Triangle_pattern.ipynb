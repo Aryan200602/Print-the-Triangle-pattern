{
  "nbformat": 4,
  "nbformat_minor": 0,
  "metadata": {
    "colab": {
      "provenance": []
    },
    "kernelspec": {
      "name": "python3",
      "display_name": "Python 3"
    },
    "language_info": {
      "name": "python"
    }
  },
  "cells": [
    {
      "cell_type": "code",
      "execution_count": 7,
      "metadata": {
        "colab": {
          "base_uri": "https://localhost:8080/"
        },
        "id": "5bVtW3eWXc5A",
        "outputId": "be06b65d-b4a2-42e0-e4b9-3b33b48b67b9"
      },
      "outputs": [
        {
          "output_type": "stream",
          "name": "stdout",
          "text": [
            "* \n",
            "* * \n",
            "* * * \n",
            "* * * * \n",
            "* * * * * \n"
          ]
        }
      ],
      "source": [
        "n = 5  # Number of rows\n",
        "\n",
        "# Loop through rows from 1 to n\n",
        "for i in range(1, n + 1):\n",
        "    print(\"* \" * i)  # Print '*' i times with a space\n",
        "\n",
        "#On each line, the number of * characters increases.\n",
        "#The first row has 1 *, the second has 2, and so on until n"
      ]
    },
    {
      "cell_type": "code",
      "source": [
        "n = 5  # Number of rows\n",
        "\n",
        "# Loop through rows from n to 1\n",
        "for i in range(n, 0, -1):\n",
        "    print(\"* \" * i)  # Print '*' i times with a space\n",
        "\n",
        "#This is the reverse of the lower triangle.\n",
        "#The first row starts with n *, and decreases by 1 each row."
      ],
      "metadata": {
        "colab": {
          "base_uri": "https://localhost:8080/"
        },
        "id": "COkt4WmQXl63",
        "outputId": "6fe86cf7-b30c-42d0-85d8-c44b5025b53f"
      },
      "execution_count": 5,
      "outputs": [
        {
          "output_type": "stream",
          "name": "stdout",
          "text": [
            "* * * * * \n",
            "* * * * \n",
            "* * * \n",
            "* * \n",
            "* \n"
          ]
        }
      ]
    },
    {
      "cell_type": "code",
      "source": [
        "n = 5\n",
        "for i in range(1, n + 1):\n",
        "    print(\" \" * (n - i) + \"* \" * i)\n",
        "\n",
        "#\" \" * (n - i) adds leading spaces to center the stars.\n",
        "\n",
        "#\"* \" * i prints the stars with spaces.\n",
        "\n",
        "#As i increases, stars grow and spaces shrink, forming a centered pyramid."
      ],
      "metadata": {
        "colab": {
          "base_uri": "https://localhost:8080/"
        },
        "id": "g1TSYSFVXoP1",
        "outputId": "ab7c205f-769e-4e95-c028-563d80cd93c8"
      },
      "execution_count": 6,
      "outputs": [
        {
          "output_type": "stream",
          "name": "stdout",
          "text": [
            "    * \n",
            "   * * \n",
            "  * * * \n",
            " * * * * \n",
            "* * * * * \n"
          ]
        }
      ]
    }
  ]
}